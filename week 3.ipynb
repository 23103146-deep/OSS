{
 "cells": [
  {
   "cell_type": "code",
   "execution_count": 25,
   "id": "a597a174",
   "metadata": {
    "scrolled": true
   },
   "outputs": [
    {
     "name": "stdout",
     "output_type": "stream",
     "text": [
      "{'a': 1, 'b': 2, 'c': 3}\n",
      "{1: 'a', 2: 'b', 3: 'c'}\n"
     ]
    }
   ],
   "source": [
    "def invertdict(d):\n",
    "    return {value: key for key, value in d.items()}\n",
    "\n",
    "original_dict={'a':1,'b':2,'c':3}\n",
    "print(original_dict)\n",
    "invert_dict=invertdict(original_dict)\n",
    "print(invert_dict) \n"
   ]
  },
  {
   "cell_type": "code",
   "execution_count": 26,
   "id": "ebdde60b",
   "metadata": {},
   "outputs": [
    {
     "name": "stdout",
     "output_type": "stream",
     "text": [
      "[2, 5, 8]\n"
     ]
    }
   ],
   "source": [
    "def valuesort(d):\n",
    "    return[d[key] for key in sorted(d.keys())]\n",
    "my_dict = {'b':5, 'a':2, 'c':8}\n",
    "sorted_values = valuesort(my_dict)\n",
    "print(sorted_values)"
   ]
  },
  {
   "cell_type": "code",
   "execution_count": 35,
   "id": "d6d28dda",
   "metadata": {},
   "outputs": [
    {
     "name": "stdout",
     "output_type": "stream",
     "text": [
      "3largest elements are: [25, 20, 15]\n"
     ]
    }
   ],
   "source": [
    "def n_largest_elements(lst,N):\n",
    "    return sorted(lst, reverse=True)[:N]\n",
    "numbers = [12,5,20,8,15,3,25]\n",
    "N=3\n",
    "result = n_largest_elements(numbers, N)\n",
    "print(f\"{N}largest elements are: {result}\")"
   ]
  },
  {
   "cell_type": "code",
   "execution_count": 37,
   "id": "80aa41cd",
   "metadata": {},
   "outputs": [
    {
     "name": "stdout",
     "output_type": "stream",
     "text": [
      "['ad', 'ae', 'af', 'bd', 'be', 'bf', 'cd', 'ce', 'cf', 'dg', 'dh', 'di', 'eg', 'eh', 'ei', 'fg', 'fh', 'fi']\n"
     ]
    }
   ],
   "source": [
    "string_maps = {\n",
    "    \"1\": \"abc\",\n",
    "    \"2\": \"def\",\n",
    "    \"3\": \"ghi\",\n",
    "    \"4\": \"jkl\",\n",
    "    \"5\": \"mno\",\n",
    "    \"6\":  \"pqrs\",\n",
    "     \"7\": \"tuv\",\n",
    "    \"8\": \"wxy\",\n",
    "    \"9\": \"z\"\n",
    "}\n",
    "\n",
    "def two_digit_combinations(digit_string):\n",
    "    combinations = []\n",
    "    n = len(digit_string)\n",
    "    \n",
    "    # Loop through the string to consider pairs of digits\n",
    "    for i in range(n - 1):\n",
    "        first_digit = digit_string[i]\n",
    "        second_digit = digit_string[i + 1]\n",
    "        \n",
    "        if first_digit in string_maps and second_digit in string_maps:\n",
    "            # Combine letters from both digits\n",
    "            for ch1 in string_maps[first_digit]:\n",
    "                for ch2 in string_maps[second_digit]:\n",
    "                    combinations.append(ch1 + ch2)\n",
    "    \n",
    "    return combinations\n",
    "digits = \"123\"\n",
    "result = two_digit_combinations(digits)\n",
    "print(result)"
   ]
  },
  {
   "cell_type": "code",
   "execution_count": null,
   "id": "909b1577",
   "metadata": {},
   "outputs": [
    {
     "name": "stdout",
     "output_type": "stream",
     "text": [
      "Enter the 10x10 grid (each line with 10 digits, 1 or 0):\n"
     ]
    }
   ],
   "source": [
    "def dfs(grid, i, j, visited):\n",
    "    rows, cols = len(grid), len(grid[0])\n",
    "   \n",
    "    if i < 0 or i >= rows or j < 0 or j >= cols:\n",
    "        return\n",
    "    if grid[i][j] == 0 or visited[i][j]:\n",
    "        return\n",
    "    \n",
    "    visited[i][j] = True\n",
    "    \n",
    "   \n",
    "    dfs(grid, i + 1, j, visited)\n",
    "    dfs(grid, i - 1, j, visited)\n",
    "    dfs(grid, i, j + 1, visited)\n",
    "    dfs(grid, i, j - 1, visited)\n",
    "\n",
    "def count_islands(grid):\n",
    "    visited = [[False]*len(grid[0]) for _ in range(len(grid))]\n",
    "    islands = 0\n",
    "    \n",
    "    for i in range(len(grid)):\n",
    "        for j in range(len(grid[0])):\n",
    "            if grid[i][j] == 1 and not visited[i][j]:\n",
    "                dfs(grid, i, j, visited)\n",
    "                islands += 1\n",
    "    return islands\n",
    "\n",
    "grid = []\n",
    "print(\"Enter the 10x10 grid (each line with 10 digits, 1 or 0):\")\n",
    "for _ in range(10):\n",
    "    line = input().strip()\n",
    "    row = list(map(int, list(line)))\n",
    "    grid.append(row)\n",
    "\n",
    "result = count_islands(grid)\n",
    "print(\"Number of islands:\", result)"
   ]
  },
  {
   "cell_type": "code",
   "execution_count": null,
   "id": "031be6fa",
   "metadata": {},
   "outputs": [],
   "source": []
  }
 ],
 "metadata": {
  "kernelspec": {
   "display_name": "Python 3 (ipykernel)",
   "language": "python",
   "name": "python3"
  },
  "language_info": {
   "codemirror_mode": {
    "name": "ipython",
    "version": 3
   },
   "file_extension": ".py",
   "mimetype": "text/x-python",
   "name": "python",
   "nbconvert_exporter": "python",
   "pygments_lexer": "ipython3",
   "version": "3.9.7"
  }
 },
 "nbformat": 4,
 "nbformat_minor": 5
}
